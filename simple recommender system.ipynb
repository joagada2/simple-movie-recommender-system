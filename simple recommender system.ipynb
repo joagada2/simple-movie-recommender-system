{
 "cells": [
  {
   "cell_type": "markdown",
   "id": "7dd3aed2",
   "metadata": {},
   "source": [
    "# SIMPLE RECOMMENDER SYSTEM WITH PYTHON\n",
    "### PROJECT OVERVIEW\n",
    "There are three major types of recommender system and they are simple, content-based and collaborative filter recommender systems. While the content-based and collaborative filter are more effective, sophisticated and user specific, they have one common challenge which is that they cannot be used to recomend items to new or non regular users as past history of activities of the target user is required. Hence, simple recommender system could be adopted to recommend items to new users so as to get a clue of their preferences before more sophisticated recommender systems is be adopted. Also, e-commerce and classified ads websites for example could adopt simple recommender system to create a monthly or weekly table of trending ads for various ads categories based on interation of website visitors with items. Music or video streaming websites could also adopt this approach to create periodic list of top music or videos in various categories. In this work, I shall build a simple recommender system to determine the 100 most prefered movie based on users rating score and number of ratings for each movie in the dataset.  \n",
    "### DATASET\n",
    "The data used for this project is the MovieLense for Education and Development Dataset downloaded from Grouplens website (https://grouplens.org/datasets/movielens/latest/). The dataset was last updated in September 2018. GroupLens is a research lab in the Department of Computer Science and Engineering at the University of Minnesota, Twin Cities specializing in recommender systems, online communities, mobile and ubiquitous technologies, digital libraries, and local geographic information systems. The grouplense movie dataset are broken into full and summary datasets for convenience. The summary version conatin just a subset of the the dataset. The full dataset which would be used in this project has 6 tables, namely the genome-scores.csv, genome-tags.csv, links.csv, movies.csv, ratings.csv and tags.csv. Only the ratings.csv and movies.csv files will be used in this project because they have the information on rating counts, rating scores and movie title which are the information needed."
   ]
  },
  {
   "cell_type": "markdown",
   "id": "2dd73ec2",
   "metadata": {},
   "source": [
    "#### STEP 1: LIBRARY, DATA IMPORTATION AND DATA PREPARATION"
   ]
  },
  {
   "cell_type": "code",
   "execution_count": 2,
   "id": "59cd54e4",
   "metadata": {},
   "outputs": [
    {
     "data": {
      "text/html": [
       "<div>\n",
       "<style scoped>\n",
       "    .dataframe tbody tr th:only-of-type {\n",
       "        vertical-align: middle;\n",
       "    }\n",
       "\n",
       "    .dataframe tbody tr th {\n",
       "        vertical-align: top;\n",
       "    }\n",
       "\n",
       "    .dataframe thead th {\n",
       "        text-align: right;\n",
       "    }\n",
       "</style>\n",
       "<table border=\"1\" class=\"dataframe\">\n",
       "  <thead>\n",
       "    <tr style=\"text-align: right;\">\n",
       "      <th></th>\n",
       "      <th>userId</th>\n",
       "      <th>movieId</th>\n",
       "      <th>rating</th>\n",
       "      <th>timestamp</th>\n",
       "    </tr>\n",
       "  </thead>\n",
       "  <tbody>\n",
       "    <tr>\n",
       "      <th>0</th>\n",
       "      <td>1</td>\n",
       "      <td>307</td>\n",
       "      <td>3.5</td>\n",
       "      <td>1256677221</td>\n",
       "    </tr>\n",
       "    <tr>\n",
       "      <th>1</th>\n",
       "      <td>1</td>\n",
       "      <td>481</td>\n",
       "      <td>3.5</td>\n",
       "      <td>1256677456</td>\n",
       "    </tr>\n",
       "    <tr>\n",
       "      <th>2</th>\n",
       "      <td>1</td>\n",
       "      <td>1091</td>\n",
       "      <td>1.5</td>\n",
       "      <td>1256677471</td>\n",
       "    </tr>\n",
       "    <tr>\n",
       "      <th>3</th>\n",
       "      <td>1</td>\n",
       "      <td>1257</td>\n",
       "      <td>4.5</td>\n",
       "      <td>1256677460</td>\n",
       "    </tr>\n",
       "    <tr>\n",
       "      <th>4</th>\n",
       "      <td>1</td>\n",
       "      <td>1449</td>\n",
       "      <td>4.5</td>\n",
       "      <td>1256677264</td>\n",
       "    </tr>\n",
       "  </tbody>\n",
       "</table>\n",
       "</div>"
      ],
      "text/plain": [
       "   userId  movieId  rating   timestamp\n",
       "0       1      307     3.5  1256677221\n",
       "1       1      481     3.5  1256677456\n",
       "2       1     1091     1.5  1256677471\n",
       "3       1     1257     4.5  1256677460\n",
       "4       1     1449     4.5  1256677264"
      ]
     },
     "execution_count": 2,
     "metadata": {},
     "output_type": "execute_result"
    }
   ],
   "source": [
    "#we importation of pandas and the ratings.csv file\n",
    "import pandas as pd\n",
    "ratings = pd.read_csv('ratings.csv')\n",
    "ratings.head()"
   ]
  },
  {
   "cell_type": "code",
   "execution_count": 3,
   "id": "5d6e9efb",
   "metadata": {},
   "outputs": [
    {
     "data": {
      "text/plain": [
       "(27753444, 4)"
      ]
     },
     "execution_count": 3,
     "metadata": {},
     "output_type": "execute_result"
    }
   ],
   "source": [
    "#there are over 27 million records implying over 27 million ratings\n",
    "ratings.shape"
   ]
  },
  {
   "cell_type": "code",
   "execution_count": 4,
   "id": "94bd0ac8",
   "metadata": {},
   "outputs": [
    {
     "data": {
      "text/html": [
       "<div>\n",
       "<style scoped>\n",
       "    .dataframe tbody tr th:only-of-type {\n",
       "        vertical-align: middle;\n",
       "    }\n",
       "\n",
       "    .dataframe tbody tr th {\n",
       "        vertical-align: top;\n",
       "    }\n",
       "\n",
       "    .dataframe thead th {\n",
       "        text-align: right;\n",
       "    }\n",
       "</style>\n",
       "<table border=\"1\" class=\"dataframe\">\n",
       "  <thead>\n",
       "    <tr style=\"text-align: right;\">\n",
       "      <th></th>\n",
       "      <th>movieId</th>\n",
       "      <th>title</th>\n",
       "      <th>genres</th>\n",
       "    </tr>\n",
       "  </thead>\n",
       "  <tbody>\n",
       "    <tr>\n",
       "      <th>0</th>\n",
       "      <td>1</td>\n",
       "      <td>Toy Story (1995)</td>\n",
       "      <td>Adventure|Animation|Children|Comedy|Fantasy</td>\n",
       "    </tr>\n",
       "    <tr>\n",
       "      <th>1</th>\n",
       "      <td>2</td>\n",
       "      <td>Jumanji (1995)</td>\n",
       "      <td>Adventure|Children|Fantasy</td>\n",
       "    </tr>\n",
       "    <tr>\n",
       "      <th>2</th>\n",
       "      <td>3</td>\n",
       "      <td>Grumpier Old Men (1995)</td>\n",
       "      <td>Comedy|Romance</td>\n",
       "    </tr>\n",
       "    <tr>\n",
       "      <th>3</th>\n",
       "      <td>4</td>\n",
       "      <td>Waiting to Exhale (1995)</td>\n",
       "      <td>Comedy|Drama|Romance</td>\n",
       "    </tr>\n",
       "    <tr>\n",
       "      <th>4</th>\n",
       "      <td>5</td>\n",
       "      <td>Father of the Bride Part II (1995)</td>\n",
       "      <td>Comedy</td>\n",
       "    </tr>\n",
       "  </tbody>\n",
       "</table>\n",
       "</div>"
      ],
      "text/plain": [
       "   movieId                               title  \\\n",
       "0        1                    Toy Story (1995)   \n",
       "1        2                      Jumanji (1995)   \n",
       "2        3             Grumpier Old Men (1995)   \n",
       "3        4            Waiting to Exhale (1995)   \n",
       "4        5  Father of the Bride Part II (1995)   \n",
       "\n",
       "                                        genres  \n",
       "0  Adventure|Animation|Children|Comedy|Fantasy  \n",
       "1                   Adventure|Children|Fantasy  \n",
       "2                               Comedy|Romance  \n",
       "3                         Comedy|Drama|Romance  \n",
       "4                                       Comedy  "
      ]
     },
     "execution_count": 4,
     "metadata": {},
     "output_type": "execute_result"
    }
   ],
   "source": [
    "#importation of the movies.csv file which has the movie titles and would be needed\n",
    "movieTitle = pd.read_csv('movies.csv')\n",
    "movieTitle.head()"
   ]
  },
  {
   "cell_type": "code",
   "execution_count": 5,
   "id": "fda647c6",
   "metadata": {},
   "outputs": [
    {
     "data": {
      "text/plain": [
       "(58098, 3)"
      ]
     },
     "execution_count": 5,
     "metadata": {},
     "output_type": "execute_result"
    }
   ],
   "source": [
    "#observe that there are 53,889 different movies in the dataset\n",
    "movieTitle.shape"
   ]
  },
  {
   "cell_type": "code",
   "execution_count": 6,
   "id": "2196ef56",
   "metadata": {},
   "outputs": [],
   "source": [
    "#creating a new table which will have average_ratings and total_ratings as columns against each unique movies\n",
    "df1 = ratings.copy()[['userId','movieId']]\n",
    "df2 = ratings.copy()[['movieId','rating']]"
   ]
  },
  {
   "cell_type": "code",
   "execution_count": 7,
   "id": "d4399985",
   "metadata": {},
   "outputs": [
    {
     "data": {
      "text/html": [
       "<div>\n",
       "<style scoped>\n",
       "    .dataframe tbody tr th:only-of-type {\n",
       "        vertical-align: middle;\n",
       "    }\n",
       "\n",
       "    .dataframe tbody tr th {\n",
       "        vertical-align: top;\n",
       "    }\n",
       "\n",
       "    .dataframe thead th {\n",
       "        text-align: right;\n",
       "    }\n",
       "</style>\n",
       "<table border=\"1\" class=\"dataframe\">\n",
       "  <thead>\n",
       "    <tr style=\"text-align: right;\">\n",
       "      <th></th>\n",
       "      <th>userId</th>\n",
       "      <th>movieId</th>\n",
       "    </tr>\n",
       "  </thead>\n",
       "  <tbody>\n",
       "    <tr>\n",
       "      <th>0</th>\n",
       "      <td>1</td>\n",
       "      <td>307</td>\n",
       "    </tr>\n",
       "    <tr>\n",
       "      <th>1</th>\n",
       "      <td>1</td>\n",
       "      <td>481</td>\n",
       "    </tr>\n",
       "    <tr>\n",
       "      <th>2</th>\n",
       "      <td>1</td>\n",
       "      <td>1091</td>\n",
       "    </tr>\n",
       "    <tr>\n",
       "      <th>3</th>\n",
       "      <td>1</td>\n",
       "      <td>1257</td>\n",
       "    </tr>\n",
       "    <tr>\n",
       "      <th>4</th>\n",
       "      <td>1</td>\n",
       "      <td>1449</td>\n",
       "    </tr>\n",
       "  </tbody>\n",
       "</table>\n",
       "</div>"
      ],
      "text/plain": [
       "   userId  movieId\n",
       "0       1      307\n",
       "1       1      481\n",
       "2       1     1091\n",
       "3       1     1257\n",
       "4       1     1449"
      ]
     },
     "execution_count": 7,
     "metadata": {},
     "output_type": "execute_result"
    }
   ],
   "source": [
    "df1.head()"
   ]
  },
  {
   "cell_type": "code",
   "execution_count": 8,
   "id": "14eaec05",
   "metadata": {},
   "outputs": [
    {
     "data": {
      "text/html": [
       "<div>\n",
       "<style scoped>\n",
       "    .dataframe tbody tr th:only-of-type {\n",
       "        vertical-align: middle;\n",
       "    }\n",
       "\n",
       "    .dataframe tbody tr th {\n",
       "        vertical-align: top;\n",
       "    }\n",
       "\n",
       "    .dataframe thead th {\n",
       "        text-align: right;\n",
       "    }\n",
       "</style>\n",
       "<table border=\"1\" class=\"dataframe\">\n",
       "  <thead>\n",
       "    <tr style=\"text-align: right;\">\n",
       "      <th></th>\n",
       "      <th>movieId</th>\n",
       "      <th>rating</th>\n",
       "    </tr>\n",
       "  </thead>\n",
       "  <tbody>\n",
       "    <tr>\n",
       "      <th>0</th>\n",
       "      <td>307</td>\n",
       "      <td>3.5</td>\n",
       "    </tr>\n",
       "    <tr>\n",
       "      <th>1</th>\n",
       "      <td>481</td>\n",
       "      <td>3.5</td>\n",
       "    </tr>\n",
       "    <tr>\n",
       "      <th>2</th>\n",
       "      <td>1091</td>\n",
       "      <td>1.5</td>\n",
       "    </tr>\n",
       "    <tr>\n",
       "      <th>3</th>\n",
       "      <td>1257</td>\n",
       "      <td>4.5</td>\n",
       "    </tr>\n",
       "    <tr>\n",
       "      <th>4</th>\n",
       "      <td>1449</td>\n",
       "      <td>4.5</td>\n",
       "    </tr>\n",
       "  </tbody>\n",
       "</table>\n",
       "</div>"
      ],
      "text/plain": [
       "   movieId  rating\n",
       "0      307     3.5\n",
       "1      481     3.5\n",
       "2     1091     1.5\n",
       "3     1257     4.5\n",
       "4     1449     4.5"
      ]
     },
     "execution_count": 8,
     "metadata": {},
     "output_type": "execute_result"
    }
   ],
   "source": [
    "df2.head()"
   ]
  },
  {
   "cell_type": "code",
   "execution_count": 9,
   "id": "bf293155",
   "metadata": {},
   "outputs": [
    {
     "data": {
      "text/html": [
       "<div>\n",
       "<style scoped>\n",
       "    .dataframe tbody tr th:only-of-type {\n",
       "        vertical-align: middle;\n",
       "    }\n",
       "\n",
       "    .dataframe tbody tr th {\n",
       "        vertical-align: top;\n",
       "    }\n",
       "\n",
       "    .dataframe thead th {\n",
       "        text-align: right;\n",
       "    }\n",
       "</style>\n",
       "<table border=\"1\" class=\"dataframe\">\n",
       "  <thead>\n",
       "    <tr style=\"text-align: right;\">\n",
       "      <th></th>\n",
       "      <th>movieId</th>\n",
       "      <th>numberOfRatings</th>\n",
       "    </tr>\n",
       "  </thead>\n",
       "  <tbody>\n",
       "    <tr>\n",
       "      <th>0</th>\n",
       "      <td>1</td>\n",
       "      <td>68469</td>\n",
       "    </tr>\n",
       "    <tr>\n",
       "      <th>1</th>\n",
       "      <td>2</td>\n",
       "      <td>27143</td>\n",
       "    </tr>\n",
       "    <tr>\n",
       "      <th>2</th>\n",
       "      <td>3</td>\n",
       "      <td>15585</td>\n",
       "    </tr>\n",
       "    <tr>\n",
       "      <th>3</th>\n",
       "      <td>4</td>\n",
       "      <td>2989</td>\n",
       "    </tr>\n",
       "    <tr>\n",
       "      <th>4</th>\n",
       "      <td>5</td>\n",
       "      <td>15474</td>\n",
       "    </tr>\n",
       "  </tbody>\n",
       "</table>\n",
       "</div>"
      ],
      "text/plain": [
       "   movieId  numberOfRatings\n",
       "0        1            68469\n",
       "1        2            27143\n",
       "2        3            15585\n",
       "3        4             2989\n",
       "4        5            15474"
      ]
     },
     "execution_count": 9,
     "metadata": {},
     "output_type": "execute_result"
    }
   ],
   "source": [
    "#Here I shall create the movie1 table which is the table containing all unique movies and the total number of ratings(that is number of people that rated each of the movies)\n",
    "movie1  = df1.groupby(['movieId'],as_index=False)['userId'].count()\n",
    "movie1.columns = ['movieId','numberOfRatings']\n",
    "movie1.head()"
   ]
  },
  {
   "cell_type": "code",
   "execution_count": 10,
   "id": "3cab4a07",
   "metadata": {},
   "outputs": [
    {
     "data": {
      "text/html": [
       "<div>\n",
       "<style scoped>\n",
       "    .dataframe tbody tr th:only-of-type {\n",
       "        vertical-align: middle;\n",
       "    }\n",
       "\n",
       "    .dataframe tbody tr th {\n",
       "        vertical-align: top;\n",
       "    }\n",
       "\n",
       "    .dataframe thead th {\n",
       "        text-align: right;\n",
       "    }\n",
       "</style>\n",
       "<table border=\"1\" class=\"dataframe\">\n",
       "  <thead>\n",
       "    <tr style=\"text-align: right;\">\n",
       "      <th></th>\n",
       "      <th>movieId</th>\n",
       "      <th>averageRating</th>\n",
       "    </tr>\n",
       "  </thead>\n",
       "  <tbody>\n",
       "    <tr>\n",
       "      <th>0</th>\n",
       "      <td>1</td>\n",
       "      <td>3.886649</td>\n",
       "    </tr>\n",
       "    <tr>\n",
       "      <th>1</th>\n",
       "      <td>2</td>\n",
       "      <td>3.246583</td>\n",
       "    </tr>\n",
       "    <tr>\n",
       "      <th>2</th>\n",
       "      <td>3</td>\n",
       "      <td>3.173981</td>\n",
       "    </tr>\n",
       "    <tr>\n",
       "      <th>3</th>\n",
       "      <td>4</td>\n",
       "      <td>2.874540</td>\n",
       "    </tr>\n",
       "    <tr>\n",
       "      <th>4</th>\n",
       "      <td>5</td>\n",
       "      <td>3.077291</td>\n",
       "    </tr>\n",
       "  </tbody>\n",
       "</table>\n",
       "</div>"
      ],
      "text/plain": [
       "   movieId  averageRating\n",
       "0        1       3.886649\n",
       "1        2       3.246583\n",
       "2        3       3.173981\n",
       "3        4       2.874540\n",
       "4        5       3.077291"
      ]
     },
     "execution_count": 10,
     "metadata": {},
     "output_type": "execute_result"
    }
   ],
   "source": [
    "#we create movie2 table which is the table containing all unique movies and the total number of ratings(that is number of people that rated each of the movies)\n",
    "movie2  = df2.groupby(['movieId'],as_index=False)['rating'].mean()\n",
    "movie2.columns = ['movieId','averageRating']\n",
    "movie2.head()"
   ]
  },
  {
   "cell_type": "code",
   "execution_count": 11,
   "id": "1647b818",
   "metadata": {},
   "outputs": [
    {
     "data": {
      "text/html": [
       "<div>\n",
       "<style scoped>\n",
       "    .dataframe tbody tr th:only-of-type {\n",
       "        vertical-align: middle;\n",
       "    }\n",
       "\n",
       "    .dataframe tbody tr th {\n",
       "        vertical-align: top;\n",
       "    }\n",
       "\n",
       "    .dataframe thead th {\n",
       "        text-align: right;\n",
       "    }\n",
       "</style>\n",
       "<table border=\"1\" class=\"dataframe\">\n",
       "  <thead>\n",
       "    <tr style=\"text-align: right;\">\n",
       "      <th></th>\n",
       "      <th>movieId</th>\n",
       "      <th>numberOfRatings</th>\n",
       "      <th>averageRating</th>\n",
       "    </tr>\n",
       "  </thead>\n",
       "  <tbody>\n",
       "    <tr>\n",
       "      <th>0</th>\n",
       "      <td>1</td>\n",
       "      <td>68469</td>\n",
       "      <td>3.886649</td>\n",
       "    </tr>\n",
       "    <tr>\n",
       "      <th>1</th>\n",
       "      <td>2</td>\n",
       "      <td>27143</td>\n",
       "      <td>3.246583</td>\n",
       "    </tr>\n",
       "    <tr>\n",
       "      <th>2</th>\n",
       "      <td>3</td>\n",
       "      <td>15585</td>\n",
       "      <td>3.173981</td>\n",
       "    </tr>\n",
       "    <tr>\n",
       "      <th>3</th>\n",
       "      <td>4</td>\n",
       "      <td>2989</td>\n",
       "      <td>2.874540</td>\n",
       "    </tr>\n",
       "    <tr>\n",
       "      <th>4</th>\n",
       "      <td>5</td>\n",
       "      <td>15474</td>\n",
       "      <td>3.077291</td>\n",
       "    </tr>\n",
       "  </tbody>\n",
       "</table>\n",
       "</div>"
      ],
      "text/plain": [
       "   movieId  numberOfRatings  averageRating\n",
       "0        1            68469       3.886649\n",
       "1        2            27143       3.246583\n",
       "2        3            15585       3.173981\n",
       "3        4             2989       2.874540\n",
       "4        5            15474       3.077291"
      ]
     },
     "execution_count": 11,
     "metadata": {},
     "output_type": "execute_result"
    }
   ],
   "source": [
    "#creating a new table by merge movie1 and movie2 on movieId\n",
    "movieRating = pd.merge(movie1,movie2, on='movieId')\n",
    "movieRating.head()"
   ]
  },
  {
   "cell_type": "code",
   "execution_count": 12,
   "id": "113b5f94",
   "metadata": {
    "scrolled": true
   },
   "outputs": [],
   "source": [
    "#observe that movieRating table has 53889 unique movies while the movieTitle table has 58098 records. The discrpancy imply that 4,209 (58,098-53889) movies have no ratings."
   ]
  },
  {
   "cell_type": "code",
   "execution_count": 14,
   "id": "b73c87e1",
   "metadata": {},
   "outputs": [
    {
     "data": {
      "text/html": [
       "<div>\n",
       "<style scoped>\n",
       "    .dataframe tbody tr th:only-of-type {\n",
       "        vertical-align: middle;\n",
       "    }\n",
       "\n",
       "    .dataframe tbody tr th {\n",
       "        vertical-align: top;\n",
       "    }\n",
       "\n",
       "    .dataframe thead th {\n",
       "        text-align: right;\n",
       "    }\n",
       "</style>\n",
       "<table border=\"1\" class=\"dataframe\">\n",
       "  <thead>\n",
       "    <tr style=\"text-align: right;\">\n",
       "      <th></th>\n",
       "      <th>movieId</th>\n",
       "      <th>title</th>\n",
       "      <th>genres</th>\n",
       "      <th>numberOfRatings</th>\n",
       "      <th>averageRating</th>\n",
       "    </tr>\n",
       "  </thead>\n",
       "  <tbody>\n",
       "    <tr>\n",
       "      <th>0</th>\n",
       "      <td>1</td>\n",
       "      <td>Toy Story (1995)</td>\n",
       "      <td>Adventure|Animation|Children|Comedy|Fantasy</td>\n",
       "      <td>68469</td>\n",
       "      <td>3.886649</td>\n",
       "    </tr>\n",
       "    <tr>\n",
       "      <th>1</th>\n",
       "      <td>2</td>\n",
       "      <td>Jumanji (1995)</td>\n",
       "      <td>Adventure|Children|Fantasy</td>\n",
       "      <td>27143</td>\n",
       "      <td>3.246583</td>\n",
       "    </tr>\n",
       "    <tr>\n",
       "      <th>2</th>\n",
       "      <td>3</td>\n",
       "      <td>Grumpier Old Men (1995)</td>\n",
       "      <td>Comedy|Romance</td>\n",
       "      <td>15585</td>\n",
       "      <td>3.173981</td>\n",
       "    </tr>\n",
       "    <tr>\n",
       "      <th>3</th>\n",
       "      <td>4</td>\n",
       "      <td>Waiting to Exhale (1995)</td>\n",
       "      <td>Comedy|Drama|Romance</td>\n",
       "      <td>2989</td>\n",
       "      <td>2.874540</td>\n",
       "    </tr>\n",
       "    <tr>\n",
       "      <th>4</th>\n",
       "      <td>5</td>\n",
       "      <td>Father of the Bride Part II (1995)</td>\n",
       "      <td>Comedy</td>\n",
       "      <td>15474</td>\n",
       "      <td>3.077291</td>\n",
       "    </tr>\n",
       "  </tbody>\n",
       "</table>\n",
       "</div>"
      ],
      "text/plain": [
       "   movieId                               title  \\\n",
       "0        1                    Toy Story (1995)   \n",
       "1        2                      Jumanji (1995)   \n",
       "2        3             Grumpier Old Men (1995)   \n",
       "3        4            Waiting to Exhale (1995)   \n",
       "4        5  Father of the Bride Part II (1995)   \n",
       "\n",
       "                                        genres  numberOfRatings  averageRating  \n",
       "0  Adventure|Animation|Children|Comedy|Fantasy            68469       3.886649  \n",
       "1                   Adventure|Children|Fantasy            27143       3.246583  \n",
       "2                               Comedy|Romance            15585       3.173981  \n",
       "3                         Comedy|Drama|Romance             2989       2.874540  \n",
       "4                                       Comedy            15474       3.077291  "
      ]
     },
     "execution_count": 14,
     "metadata": {},
     "output_type": "execute_result"
    }
   ],
   "source": [
    "#merging this movieRating table with the moveTitle table \n",
    "basicRecSys_df = pd.merge(movieTitle,movieRating, on='movieId')\n",
    "basicRecSys_df.head()"
   ]
  },
  {
   "cell_type": "code",
   "execution_count": 15,
   "id": "cce89472",
   "metadata": {},
   "outputs": [
    {
     "data": {
      "text/plain": [
       "(53889, 5)"
      ]
     },
     "execution_count": 15,
     "metadata": {},
     "output_type": "execute_result"
    }
   ],
   "source": [
    "#observe that the movies without ratings have been dropped\n",
    "basicRecSys_df.shape"
   ]
  },
  {
   "cell_type": "code",
   "execution_count": 16,
   "id": "a386ef6b",
   "metadata": {},
   "outputs": [
    {
     "data": {
      "text/plain": [
       "0"
      ]
     },
     "execution_count": 16,
     "metadata": {},
     "output_type": "execute_result"
    }
   ],
   "source": [
    "#we check to conform that there is no null value in columns with numerical values\n",
    "basicRecSys_df[['movieId','numberOfRatings','averageRating']].isna().sum().sum()"
   ]
  },
  {
   "cell_type": "markdown",
   "id": "e30e70b1",
   "metadata": {},
   "source": [
    "#### STEP 2: THE RECOMMENDER SYSTEM\n",
    "One may be tempted to extract the 100 most prefered movies by sorting the average rating but that would be a wrong approach as only average rating values are not sufficient to rate acceptance level. The total number of users that rate the movies is also a very important metric. The simple recommender system combine the 2 metric by calculating the weighted average of the 2 metrics with the following expression.\n",
    " - weighted_rating = (v/(v+m)R)+(m/(m+v)C) where\n",
    "      - wgere v = number of ratings for each movie\n",
    "      - m = minimum number of ratings required to be listed\n",
    "      - R = average rating for each movie\n",
    "      - C = average rating across all movies\n",
    "note that v and R are already known, and C can easily be calculated with the by using the inbuit mean() function. The choice of m depends of individuals. For this project, we take m to be 90 percentile of the numberOfRating column."
   ]
  },
  {
   "cell_type": "code",
   "execution_count": 17,
   "id": "ea7e1a8b",
   "metadata": {},
   "outputs": [
    {
     "name": "stdout",
     "output_type": "stream",
     "text": [
      "531.0\n"
     ]
    }
   ],
   "source": [
    "# calculating the minimum number of votes required to be included in the movies from where the best 100 are to be selected, m\n",
    "m = basicRecSys_df['numberOfRatings'].quantile(0.90)\n",
    "print(m)"
   ]
  },
  {
   "cell_type": "code",
   "execution_count": 18,
   "id": "3881a60f",
   "metadata": {},
   "outputs": [
    {
     "name": "stdout",
     "output_type": "stream",
     "text": [
      "3.0685927253973246\n"
     ]
    }
   ],
   "source": [
    "#calculating the average ratings across all movies\n",
    "C = basicRecSys_df['averageRating'].mean()\n",
    "print(C)"
   ]
  },
  {
   "cell_type": "code",
   "execution_count": 19,
   "id": "ace1a4c5",
   "metadata": {},
   "outputs": [
    {
     "data": {
      "text/plain": [
       "(5392, 5)"
      ]
     },
     "execution_count": 19,
     "metadata": {},
     "output_type": "execute_result"
    }
   ],
   "source": [
    "#I shall now filter out all qualified movies into a new DataFrame. Observe that the selected movies (5392) is approximately 10% of the entire movies\n",
    "q_basicRecSys_df = basicRecSys_df.copy().loc[basicRecSys_df['numberOfRatings'] >= m]\n",
    "q_basicRecSys_df.shape"
   ]
  },
  {
   "cell_type": "code",
   "execution_count": 20,
   "id": "5c954f92",
   "metadata": {},
   "outputs": [],
   "source": [
    "#creating a function that computes the weighted_rating of each movie\n",
    "def weighted_rating(x, m=m, C=C):\n",
    "    v = x['numberOfRatings']\n",
    "    R = x['averageRating']\n",
    "    # Calculation based on the IMDB formula\n",
    "    return (v/(v+m) * R) + (m/(m+v) * C)"
   ]
  },
  {
   "cell_type": "code",
   "execution_count": 21,
   "id": "fac328aa",
   "metadata": {},
   "outputs": [],
   "source": [
    "#I shall now define a new column/feature and call it wightedRating\n",
    "q_basicRecSys_df['wightedRating'] = q_basicRecSys_df.apply(weighted_rating, axis=1)"
   ]
  },
  {
   "cell_type": "code",
   "execution_count": 22,
   "id": "db6aa59e",
   "metadata": {},
   "outputs": [
    {
     "data": {
      "text/html": [
       "<div>\n",
       "<style scoped>\n",
       "    .dataframe tbody tr th:only-of-type {\n",
       "        vertical-align: middle;\n",
       "    }\n",
       "\n",
       "    .dataframe tbody tr th {\n",
       "        vertical-align: top;\n",
       "    }\n",
       "\n",
       "    .dataframe thead th {\n",
       "        text-align: right;\n",
       "    }\n",
       "</style>\n",
       "<table border=\"1\" class=\"dataframe\">\n",
       "  <thead>\n",
       "    <tr style=\"text-align: right;\">\n",
       "      <th></th>\n",
       "      <th>movieId</th>\n",
       "      <th>title</th>\n",
       "      <th>genres</th>\n",
       "      <th>numberOfRatings</th>\n",
       "      <th>averageRating</th>\n",
       "      <th>wightedRating</th>\n",
       "    </tr>\n",
       "  </thead>\n",
       "  <tbody>\n",
       "    <tr>\n",
       "      <th>0</th>\n",
       "      <td>1</td>\n",
       "      <td>Toy Story (1995)</td>\n",
       "      <td>Adventure|Animation|Children|Comedy|Fantasy</td>\n",
       "      <td>68469</td>\n",
       "      <td>3.886649</td>\n",
       "      <td>3.880354</td>\n",
       "    </tr>\n",
       "    <tr>\n",
       "      <th>1</th>\n",
       "      <td>2</td>\n",
       "      <td>Jumanji (1995)</td>\n",
       "      <td>Adventure|Children|Fantasy</td>\n",
       "      <td>27143</td>\n",
       "      <td>3.246583</td>\n",
       "      <td>3.243168</td>\n",
       "    </tr>\n",
       "    <tr>\n",
       "      <th>2</th>\n",
       "      <td>3</td>\n",
       "      <td>Grumpier Old Men (1995)</td>\n",
       "      <td>Comedy|Romance</td>\n",
       "      <td>15585</td>\n",
       "      <td>3.173981</td>\n",
       "      <td>3.170509</td>\n",
       "    </tr>\n",
       "    <tr>\n",
       "      <th>3</th>\n",
       "      <td>4</td>\n",
       "      <td>Waiting to Exhale (1995)</td>\n",
       "      <td>Comedy|Drama|Romance</td>\n",
       "      <td>2989</td>\n",
       "      <td>2.874540</td>\n",
       "      <td>2.903813</td>\n",
       "    </tr>\n",
       "    <tr>\n",
       "      <th>4</th>\n",
       "      <td>5</td>\n",
       "      <td>Father of the Bride Part II (1995)</td>\n",
       "      <td>Comedy</td>\n",
       "      <td>15474</td>\n",
       "      <td>3.077291</td>\n",
       "      <td>3.077002</td>\n",
       "    </tr>\n",
       "  </tbody>\n",
       "</table>\n",
       "</div>"
      ],
      "text/plain": [
       "   movieId                               title  \\\n",
       "0        1                    Toy Story (1995)   \n",
       "1        2                      Jumanji (1995)   \n",
       "2        3             Grumpier Old Men (1995)   \n",
       "3        4            Waiting to Exhale (1995)   \n",
       "4        5  Father of the Bride Part II (1995)   \n",
       "\n",
       "                                        genres  numberOfRatings  \\\n",
       "0  Adventure|Animation|Children|Comedy|Fantasy            68469   \n",
       "1                   Adventure|Children|Fantasy            27143   \n",
       "2                               Comedy|Romance            15585   \n",
       "3                         Comedy|Drama|Romance             2989   \n",
       "4                                       Comedy            15474   \n",
       "\n",
       "   averageRating  wightedRating  \n",
       "0       3.886649       3.880354  \n",
       "1       3.246583       3.243168  \n",
       "2       3.173981       3.170509  \n",
       "3       2.874540       2.903813  \n",
       "4       3.077291       3.077002  "
      ]
     },
     "execution_count": 22,
     "metadata": {},
     "output_type": "execute_result"
    }
   ],
   "source": [
    "q_basicRecSys_df.head()"
   ]
  },
  {
   "cell_type": "code",
   "execution_count": 23,
   "id": "af407b42",
   "metadata": {},
   "outputs": [],
   "source": [
    "q_basicRecSys_df = q_basicRecSys_df.sort_values('wightedRating', ascending=False)"
   ]
  },
  {
   "cell_type": "code",
   "execution_count": 24,
   "id": "4919cbe4",
   "metadata": {},
   "outputs": [
    {
     "data": {
      "text/html": [
       "<div>\n",
       "<style scoped>\n",
       "    .dataframe tbody tr th:only-of-type {\n",
       "        vertical-align: middle;\n",
       "    }\n",
       "\n",
       "    .dataframe tbody tr th {\n",
       "        vertical-align: top;\n",
       "    }\n",
       "\n",
       "    .dataframe thead th {\n",
       "        text-align: right;\n",
       "    }\n",
       "</style>\n",
       "<table border=\"1\" class=\"dataframe\">\n",
       "  <thead>\n",
       "    <tr style=\"text-align: right;\">\n",
       "      <th></th>\n",
       "      <th>movieId</th>\n",
       "      <th>title</th>\n",
       "      <th>genres</th>\n",
       "      <th>numberOfRatings</th>\n",
       "      <th>averageRating</th>\n",
       "      <th>wightedRating</th>\n",
       "    </tr>\n",
       "  </thead>\n",
       "  <tbody>\n",
       "    <tr>\n",
       "      <th>315</th>\n",
       "      <td>318</td>\n",
       "      <td>Shawshank Redemption, The (1994)</td>\n",
       "      <td>Crime|Drama</td>\n",
       "      <td>97999</td>\n",
       "      <td>4.424188</td>\n",
       "      <td>4.416882</td>\n",
       "    </tr>\n",
       "    <tr>\n",
       "      <th>843</th>\n",
       "      <td>858</td>\n",
       "      <td>Godfather, The (1972)</td>\n",
       "      <td>Crime|Drama</td>\n",
       "      <td>60904</td>\n",
       "      <td>4.332893</td>\n",
       "      <td>4.321965</td>\n",
       "    </tr>\n",
       "    <tr>\n",
       "      <th>49</th>\n",
       "      <td>50</td>\n",
       "      <td>Usual Suspects, The (1995)</td>\n",
       "      <td>Crime|Mystery|Thriller</td>\n",
       "      <td>62180</td>\n",
       "      <td>4.291959</td>\n",
       "      <td>4.281600</td>\n",
       "    </tr>\n",
       "    <tr>\n",
       "      <th>523</th>\n",
       "      <td>527</td>\n",
       "      <td>Schindler's List (1993)</td>\n",
       "      <td>Drama|War</td>\n",
       "      <td>71516</td>\n",
       "      <td>4.257502</td>\n",
       "      <td>4.248739</td>\n",
       "    </tr>\n",
       "    <tr>\n",
       "      <th>1195</th>\n",
       "      <td>1221</td>\n",
       "      <td>Godfather: Part II, The (1974)</td>\n",
       "      <td>Crime|Drama</td>\n",
       "      <td>38875</td>\n",
       "      <td>4.263035</td>\n",
       "      <td>4.246940</td>\n",
       "    </tr>\n",
       "    <tr>\n",
       "      <th>...</th>\n",
       "      <td>...</td>\n",
       "      <td>...</td>\n",
       "      <td>...</td>\n",
       "      <td>...</td>\n",
       "      <td>...</td>\n",
       "      <td>...</td>\n",
       "    </tr>\n",
       "    <tr>\n",
       "      <th>1183</th>\n",
       "      <td>1209</td>\n",
       "      <td>Once Upon a Time in the West (C'era una volta ...</td>\n",
       "      <td>Action|Drama|Western</td>\n",
       "      <td>5952</td>\n",
       "      <td>4.105091</td>\n",
       "      <td>4.020195</td>\n",
       "    </tr>\n",
       "    <tr>\n",
       "      <th>952</th>\n",
       "      <td>969</td>\n",
       "      <td>African Queen, The (1951)</td>\n",
       "      <td>Adventure|Comedy|Romance|War</td>\n",
       "      <td>11937</td>\n",
       "      <td>4.059646</td>\n",
       "      <td>4.017438</td>\n",
       "    </tr>\n",
       "    <tr>\n",
       "      <th>5897</th>\n",
       "      <td>5995</td>\n",
       "      <td>Pianist, The (2002)</td>\n",
       "      <td>Drama|War</td>\n",
       "      <td>18209</td>\n",
       "      <td>4.044456</td>\n",
       "      <td>4.016805</td>\n",
       "    </tr>\n",
       "    <tr>\n",
       "      <th>933</th>\n",
       "      <td>950</td>\n",
       "      <td>Thin Man, The (1934)</td>\n",
       "      <td>Comedy|Crime</td>\n",
       "      <td>3704</td>\n",
       "      <td>4.150783</td>\n",
       "      <td>4.015094</td>\n",
       "    </tr>\n",
       "    <tr>\n",
       "      <th>30569</th>\n",
       "      <td>134130</td>\n",
       "      <td>The Martian (2015)</td>\n",
       "      <td>Adventure|Drama|Sci-Fi</td>\n",
       "      <td>16160</td>\n",
       "      <td>4.043812</td>\n",
       "      <td>4.012787</td>\n",
       "    </tr>\n",
       "  </tbody>\n",
       "</table>\n",
       "<p>100 rows × 6 columns</p>\n",
       "</div>"
      ],
      "text/plain": [
       "       movieId                                              title  \\\n",
       "315        318                   Shawshank Redemption, The (1994)   \n",
       "843        858                              Godfather, The (1972)   \n",
       "49          50                         Usual Suspects, The (1995)   \n",
       "523        527                            Schindler's List (1993)   \n",
       "1195      1221                     Godfather: Part II, The (1974)   \n",
       "...        ...                                                ...   \n",
       "1183      1209  Once Upon a Time in the West (C'era una volta ...   \n",
       "952        969                          African Queen, The (1951)   \n",
       "5897      5995                                Pianist, The (2002)   \n",
       "933        950                               Thin Man, The (1934)   \n",
       "30569   134130                                 The Martian (2015)   \n",
       "\n",
       "                             genres  numberOfRatings  averageRating  \\\n",
       "315                     Crime|Drama            97999       4.424188   \n",
       "843                     Crime|Drama            60904       4.332893   \n",
       "49           Crime|Mystery|Thriller            62180       4.291959   \n",
       "523                       Drama|War            71516       4.257502   \n",
       "1195                    Crime|Drama            38875       4.263035   \n",
       "...                             ...              ...            ...   \n",
       "1183           Action|Drama|Western             5952       4.105091   \n",
       "952    Adventure|Comedy|Romance|War            11937       4.059646   \n",
       "5897                      Drama|War            18209       4.044456   \n",
       "933                    Comedy|Crime             3704       4.150783   \n",
       "30569        Adventure|Drama|Sci-Fi            16160       4.043812   \n",
       "\n",
       "       wightedRating  \n",
       "315         4.416882  \n",
       "843         4.321965  \n",
       "49          4.281600  \n",
       "523         4.248739  \n",
       "1195        4.246940  \n",
       "...              ...  \n",
       "1183        4.020195  \n",
       "952         4.017438  \n",
       "5897        4.016805  \n",
       "933         4.015094  \n",
       "30569       4.012787  \n",
       "\n",
       "[100 rows x 6 columns]"
      ]
     },
     "execution_count": 24,
     "metadata": {},
     "output_type": "execute_result"
    }
   ],
   "source": [
    "#observe that movies with 5 start rating are not even in the top 50. This is most likely because fewer users gave 5 star rating\n",
    "q_basicRecSys_df.head(100)"
   ]
  }
 ],
 "metadata": {
  "kernelspec": {
   "display_name": "Python 3 (ipykernel)",
   "language": "python",
   "name": "python3"
  },
  "language_info": {
   "codemirror_mode": {
    "name": "ipython",
    "version": 3
   },
   "file_extension": ".py",
   "mimetype": "text/x-python",
   "name": "python",
   "nbconvert_exporter": "python",
   "pygments_lexer": "ipython3",
   "version": "3.9.12"
  }
 },
 "nbformat": 4,
 "nbformat_minor": 5
}
